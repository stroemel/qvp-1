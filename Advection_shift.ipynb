{
 "cells": [
  {
   "cell_type": "markdown",
   "metadata": {},
   "source": [
    "### Calculate Spherical Coordinates and Geographical Coordinates using Advection Vectors and Height"
   ]
  },
  {
   "cell_type": "code",
   "execution_count": 2,
   "metadata": {},
   "outputs": [],
   "source": [
    "import wradlib as wrl\n",
    "import numpy as np"
   ]
  },
  {
   "cell_type": "code",
   "execution_count": 36,
   "metadata": {},
   "outputs": [],
   "source": [
    "def get_coordinates(x, y, z, site):\n",
    "    re = wrl.georef.get_earth_radius(site[1])\n",
    "    \n",
    "    rad = wrl.georef.proj4_to_osr(('+proj=aeqd +lon_0={lon:f} ' +\n",
    "                        '+lat_0={lat:f} +ellps=WGS84 +datum=WGS84 ' +\n",
    "                        '+units=m +no_defs').format(lon=site[0],\n",
    "                                                    lat=site[1]))\n",
    "    stack = np.stack((x,y,z), axis=-1)\n",
    "    if stack.ndim == 1:\n",
    "        stack = stack[None, :]\n",
    "        \n",
    "    r, phi, theta = wrl.georef.xyz_to_spherical(stack, alt=site[2], proj=rad)\n",
    "    \n",
    "    spherical = np.stack((r, phi, theta), axis=-1)\n",
    "    lla = wrl.georef.reproject(stack, projection_source=rad)\n",
    "    \n",
    "    \n",
    "    return spherical, lla"
   ]
  },
  {
   "cell_type": "code",
   "execution_count": 39,
   "metadata": {},
   "outputs": [],
   "source": [
    "# Radar Bonn\n",
    "site = (7.071626, 50.730554, 99.5)"
   ]
  },
  {
   "cell_type": "code",
   "execution_count": 38,
   "metadata": {},
   "outputs": [
    {
     "name": "stdout",
     "output_type": "stream",
     "text": [
      "[[7.12863064e+03 4.50000000e+01 7.23321407e+00]\n",
      " [8.69653410e+03 4.50000000e+01 1.25943776e+01]]\n",
      "[[   7.14251187   50.7754789  1000.        ]\n",
      " [   7.15670534   50.78445866 2000.        ]]\n"
     ]
    }
   ],
   "source": [
    "# Zur Veranschaulichung, es geht auch mit Feldern\n",
    "x = np.array([5000, 6000])\n",
    "y = np.array([5000, 6000])\n",
    "z = np.array([1000, 2000])\n",
    "spherical, lla = get_coordinates(x, y, z, site)\n",
    "print(spherical)\n",
    "print(lla)"
   ]
  },
  {
   "cell_type": "code",
   "execution_count": 42,
   "metadata": {},
   "outputs": [
    {
     "name": "stdout",
     "output_type": "stream",
     "text": [
      "[[7128.63064446   45.            7.23321407]]\n",
      "[[   7.14251187   50.7754789  1000.        ]]\n"
     ]
    }
   ],
   "source": [
    "#Hier als Beispiel mit jeweils einem x,y, und z-Wert, geht aber auch mit obigen Feldern\n",
    "spherical, lla = get_coordinates(5000, 5000, 1000, site)\n",
    "#slant range, azimuth and elevation angle\n",
    "print(spherical)\n",
    "#Koordinaten, Hohe unverand\n",
    "print(lla)"
   ]
  }
 ],
 "metadata": {
  "kernelspec": {
   "display_name": "Python 2",
   "language": "python",
   "name": "python2"
  },
  "language_info": {
   "codemirror_mode": {
    "name": "ipython",
    "version": 2
   },
   "file_extension": ".py",
   "mimetype": "text/x-python",
   "name": "python",
   "nbconvert_exporter": "python",
   "pygments_lexer": "ipython2",
   "version": "2.7.15"
  }
 },
 "nbformat": 4,
 "nbformat_minor": 2
}
